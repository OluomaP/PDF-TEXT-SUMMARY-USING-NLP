{
 "cells": [
  {
   "cell_type": "code",
   "execution_count": 1,
   "id": "ecec90cd-e1e6-4960-b0e3-8661c80b3f80",
   "metadata": {},
   "outputs": [
    {
     "name": "stderr",
     "output_type": "stream",
     "text": [
      "[nltk_data] Downloading package punkt to /Users/donaldoji/nltk_data...\n",
      "[nltk_data]   Package punkt is already up-to-date!\n"
     ]
    },
    {
     "data": {
      "text/plain": [
       "True"
      ]
     },
     "execution_count": 1,
     "metadata": {},
     "output_type": "execute_result"
    }
   ],
   "source": [
    "#import libraries\n",
    "from sumy.parsers.plaintext import PlaintextParser\n",
    "from sumy.nlp.tokenizers import Tokenizer\n",
    "from sumy.summarizers.lex_rank import LexRankSummarizer\n",
    "import pdfplumber\n",
    "import nltk\n",
    "nltk.download('punkt')"
   ]
  },
  {
   "cell_type": "code",
   "execution_count": 2,
   "id": "f3614ed6-7591-4565-afb7-6bf59aa0e824",
   "metadata": {},
   "outputs": [],
   "source": [
    "def extract_text_from_pdf(pdf_path):\n",
    "    with pdfplumber.open(pdf_path) as pdf:\n",
    "        pdf_text = \"\"\n",
    "        for page in pdf.pages:\n",
    "            pdf_text += page.extract_text()\n",
    "    return pdf_text\n",
    "        "
   ]
  },
  {
   "cell_type": "code",
   "execution_count": 3,
   "id": "bb551b47-b7d0-45c7-8a37-721df63a69d6",
   "metadata": {},
   "outputs": [],
   "source": [
    "def summarize_pdf(pdf_path, num_sentences=3):\n",
    "    # Extract text from PDF\n",
    "    pdf_text = extract_text_from_pdf(pdf_path)\n",
    "\n",
    "    # Tokenization\n",
    "    parser = PlaintextParser.from_string(pdf_text, Tokenizer(\"english\"))\n",
    "\n",
    "    # Summarization using LexRank\n",
    "    summarizer = LexRankSummarizer()\n",
    "    summary = summarizer(parser.document, num_sentences)\n",
    "\n",
    "    # Join the summarized sentences\n",
    "    summarized_text = ' '.join(str(sentence) for sentence in summary)\n",
    "\n",
    "    return summarized_text"
   ]
  },
  {
   "cell_type": "code",
   "execution_count": 4,
   "id": "9a90f513-2ab3-4c74-b351-c566c3a50c55",
   "metadata": {},
   "outputs": [
    {
     "name": "stdout",
     "output_type": "stream",
     "text": [
      "“Although he is fierce he is also tender and he is funny. She is also a free spirit which is a quality I much admire in a dinosaur.” “But he can be so distant and so peculiar at times,” thought the Lovely Other Dinosaur. Are all Lovely Other Dinosaurs so uncommonly keen on shopping?” “I will forgive his peculiarity and his concern for things,” thought the Lovely Other Dinosaur, “for they are part of what makes him a richly charactered individual.” “I will forgive her skipping mind and her fondness for shopping,” thought the Dinosaur, “for she fills our life with beautiful thoughts and wonderful surprises.\n"
     ]
    }
   ],
   "source": [
    "# usage\n",
    "pdf_path = 'A_Lovely_Love_Story.pdf'\n",
    "summary = summarize_pdf(pdf_path)\n",
    "print(summary)\n"
   ]
  },
  {
   "cell_type": "code",
   "execution_count": 5,
   "id": "79aa8e68-3c6c-4a99-a6f1-b53b64713ddb",
   "metadata": {},
   "outputs": [
    {
     "name": "stdout",
     "output_type": "stream",
     "text": [
      "I begin tucking him into bed and he tells me, “Daddy check for monsters under my bed.” I look underneath for his amusement and see him, another him, under the bed, staring back at me quivering and whispering, “Daddy there’s somebody on my bed.” 2. As you are heading down the stairs you hear a whisper from the closet saying “Don’t go down there honey, I heard it too.” 7. I never go to sleep.\n"
     ]
    }
   ],
   "source": [
    "pdf_path = 'twosentencehorrorstories.pdf'\n",
    "summary = summarize_pdf(pdf_path)\n",
    "print(summary)"
   ]
  },
  {
   "cell_type": "code",
   "execution_count": null,
   "id": "f20c5c71-658f-4539-b520-0cd3459a5ab6",
   "metadata": {},
   "outputs": [],
   "source": []
  }
 ],
 "metadata": {
  "kernelspec": {
   "display_name": "Python 3 (ipykernel)",
   "language": "python",
   "name": "python3"
  },
  "language_info": {
   "codemirror_mode": {
    "name": "ipython",
    "version": 3
   },
   "file_extension": ".py",
   "mimetype": "text/x-python",
   "name": "python",
   "nbconvert_exporter": "python",
   "pygments_lexer": "ipython3",
   "version": "3.11.7"
  }
 },
 "nbformat": 4,
 "nbformat_minor": 5
}
